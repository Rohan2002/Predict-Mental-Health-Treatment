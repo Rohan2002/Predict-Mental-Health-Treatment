{
 "cells": [
  {
   "cell_type": "code",
   "execution_count": 4,
   "metadata": {},
   "outputs": [
    {
     "ename": "TypeError",
     "evalue": "val() takes 0 positional arguments but 1 was given",
     "output_type": "error",
     "traceback": [
      "\u001b[0;31m---------------------------------------------------------------------------\u001b[0m",
      "\u001b[0;31mTypeError\u001b[0m                                 Traceback (most recent call last)",
      "\u001b[0;32m<ipython-input-4-032df701891a>\u001b[0m in \u001b[0;36m<module>\u001b[0;34m\u001b[0m\n\u001b[1;32m     64\u001b[0m \u001b[0;31m#         # Hyper\u001b[0m\u001b[0;34m\u001b[0m\u001b[0;34m\u001b[0m\u001b[0;34m\u001b[0m\u001b[0m\n\u001b[1;32m     65\u001b[0m \u001b[0ma\u001b[0m \u001b[0;34m=\u001b[0m \u001b[0mActivateTunerSpace\u001b[0m\u001b[0;34m(\u001b[0m\u001b[0;36m3\u001b[0m\u001b[0;34m)\u001b[0m\u001b[0;34m\u001b[0m\u001b[0;34m\u001b[0m\u001b[0m\n\u001b[0;32m---> 66\u001b[0;31m \u001b[0mprint\u001b[0m\u001b[0;34m(\u001b[0m\u001b[0ma\u001b[0m\u001b[0;34m.\u001b[0m\u001b[0mval\u001b[0m\u001b[0;34m(\u001b[0m\u001b[0;34m)\u001b[0m\u001b[0;34m)\u001b[0m\u001b[0;34m\u001b[0m\u001b[0;34m\u001b[0m\u001b[0m\n\u001b[0m",
      "\u001b[0;31mTypeError\u001b[0m: val() takes 0 positional arguments but 1 was given"
     ]
    }
   ],
   "source": [
    "class ActivateTunerSpace:\n",
    "    def __init__(\n",
    "        self,\n",
    "#         x_train_data,\n",
    "#         y_train_data,\n",
    "#         x_val_data,\n",
    "#         y_val_data,\n",
    "#         space_type,\n",
    "        input_space\n",
    "    ):\n",
    "#         self.x_train_data = x_train_data\n",
    "#         self.y_train_data = y_train_data\n",
    "#         self.x_val_data = x_val_data\n",
    "#         self.y_val_data = y_val_data\n",
    "        self.input_space = input_space\n",
    "#         self.space_type = space_type\n",
    "    def val():\n",
    "        print(self.input_space)\n",
    "\n",
    "#     def activateTuner():\n",
    "#         model_tuner = MentalHealthTunerHyperModel(self.input_space)\n",
    "#         if self.space_type == \"random\":\n",
    "#             # Random Space Tuner\n",
    "#             random_tuner = RandomSearch(\n",
    "#                 hypermodel,\n",
    "#                 objective=\"val_accuracy\",\n",
    "#                 max_epochs=50,\n",
    "#                 factor=3,\n",
    "#                 project_name=\"../hyperparameters\",\n",
    "#             )\n",
    "#             random_tuner.search(\n",
    "#                 self.x_train_data,\n",
    "#                 self.y_train_data,\n",
    "#                 epochs=50,\n",
    "#                 validation_data=(self.x_val_data, self.y_val_data),\n",
    "#                 callbacks=[tf.keras.callbacks.EarlyStopping(patience=1)],\n",
    "#             )\n",
    "#             # Get the optimal hyperparameters\n",
    "#             print(random_tuner.results_summary())\n",
    "\n",
    "#             # Retrieve the best model.\n",
    "#             best_model = random_tuner.get_best_models(num_models=1)[0]\n",
    "\n",
    "#             # Save the best model.\n",
    "#             best_model.save(\"../models/tuned_mental_health_random.h5\")\n",
    "#             print(best_model.summary())\n",
    "#             best_hps = random_tuner.get_best_hyperparameters(num_trials=1)[0]\n",
    "#             print(\n",
    "#                 f\"\"\"\n",
    "#             The random hyperparameter search is complete. The optimal number of units in the first densely-connected\n",
    "#             layer is {best_hps.get('units')} and the optimal learning rate for the optimizer\n",
    "#             is {best_hps.get('learning_rate')}.\n",
    "#             \"\"\"\n",
    "#             )\n",
    "\n",
    "#         elif self.space_type == \"hyper\":\n",
    "#             hyper_tuner = Hyperband(\n",
    "#                 model_tuner,\n",
    "#                 objective=\"val_accuracy\",\n",
    "#                 max_epochs=50,\n",
    "#                 factor=3,\n",
    "#                 project_name=\"../hyperparameters\",\n",
    "#             )\n",
    "#         # Hyper\n",
    "a = ActivateTunerSpace(3)\n",
    "print(a.val())"
   ]
  }
 ],
 "metadata": {
  "kernelspec": {
   "display_name": "data-science-environment",
   "language": "python",
   "name": "data-science-environment"
  },
  "language_info": {
   "codemirror_mode": {
    "name": "ipython",
    "version": 3
   },
   "file_extension": ".py",
   "mimetype": "text/x-python",
   "name": "python",
   "nbconvert_exporter": "python",
   "pygments_lexer": "ipython3",
   "version": "3.7.9"
  }
 },
 "nbformat": 4,
 "nbformat_minor": 4
}

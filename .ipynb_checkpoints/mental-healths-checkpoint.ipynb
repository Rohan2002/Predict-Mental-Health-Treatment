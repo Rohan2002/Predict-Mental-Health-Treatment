{
 "cells": [
  {
   "cell_type": "code",
   "execution_count": 35,
   "metadata": {},
   "outputs": [
    {
     "data": {
      "application/javascript": [
       "\n",
       "            setTimeout(function() {\n",
       "                var nbb_cell_id = 35;\n",
       "                var nbb_unformatted_code = \"import pandas as pd\\nimport numpy as np\\nimport matplotlib.pyplot as plt\\nfrom sklearn.model_selection import train_test_split\\nfrom scipy import stats\\nfrom sklearn.preprocessing import OrdinalEncoder, OneHotEncoder\\nimport seaborn as sns\\nfrom sklearn.linear_model import SGDClassifier\\nfrom sklearn.model_selection import cross_val_score\\nimport tensorflow as tf\\nfrom tensorflow import keras\";\n",
       "                var nbb_formatted_code = \"import pandas as pd\\nimport numpy as np\\nimport matplotlib.pyplot as plt\\nfrom sklearn.model_selection import train_test_split\\nfrom scipy import stats\\nfrom sklearn.preprocessing import OrdinalEncoder, OneHotEncoder\\nimport seaborn as sns\\nfrom sklearn.linear_model import SGDClassifier\\nfrom sklearn.model_selection import cross_val_score\\nimport tensorflow as tf\\nfrom tensorflow import keras\";\n",
       "                var nbb_cells = Jupyter.notebook.get_cells();\n",
       "                for (var i = 0; i < nbb_cells.length; ++i) {\n",
       "                    if (nbb_cells[i].input_prompt_number == nbb_cell_id) {\n",
       "                        if (nbb_cells[i].get_text() == nbb_unformatted_code) {\n",
       "                             nbb_cells[i].set_text(nbb_formatted_code);\n",
       "                        }\n",
       "                        break;\n",
       "                    }\n",
       "                }\n",
       "            }, 500);\n",
       "            "
      ],
      "text/plain": [
       "<IPython.core.display.Javascript object>"
      ]
     },
     "metadata": {},
     "output_type": "display_data"
    }
   ],
   "source": [
    "import pandas as pd\n",
    "import numpy as np\n",
    "import matplotlib.pyplot as plt\n",
    "from sklearn.model_selection import train_test_split\n",
    "from scipy import stats\n",
    "from sklearn.preprocessing import OrdinalEncoder, OneHotEncoder\n",
    "import seaborn as sns\n",
    "from sklearn.linear_model import SGDClassifier\n",
    "from sklearn.model_selection import cross_val_score\n",
    "import tensorflow as tf\n",
    "from tensorflow import keras"
   ]
  },
  {
   "cell_type": "code",
   "execution_count": 36,
   "metadata": {},
   "outputs": [
    {
     "name": "stdout",
     "output_type": "stream",
     "text": [
      "The nb_black extension is already loaded. To reload it, use:\n",
      "  %reload_ext nb_black\n"
     ]
    },
    {
     "data": {
      "application/javascript": [
       "\n",
       "            setTimeout(function() {\n",
       "                var nbb_cell_id = 36;\n",
       "                var nbb_unformatted_code = \"%config IPCompleter.greedy=True\\n%matplotlib inline\\n%load_ext nb_black\";\n",
       "                var nbb_formatted_code = \"%config IPCompleter.greedy=True\\n%matplotlib inline\\n%load_ext nb_black\";\n",
       "                var nbb_cells = Jupyter.notebook.get_cells();\n",
       "                for (var i = 0; i < nbb_cells.length; ++i) {\n",
       "                    if (nbb_cells[i].input_prompt_number == nbb_cell_id) {\n",
       "                        if (nbb_cells[i].get_text() == nbb_unformatted_code) {\n",
       "                             nbb_cells[i].set_text(nbb_formatted_code);\n",
       "                        }\n",
       "                        break;\n",
       "                    }\n",
       "                }\n",
       "            }, 500);\n",
       "            "
      ],
      "text/plain": [
       "<IPython.core.display.Javascript object>"
      ]
     },
     "metadata": {},
     "output_type": "display_data"
    }
   ],
   "source": [
    "%config IPCompleter.greedy=True\n",
    "%matplotlib inline\n",
    "%load_ext nb_black"
   ]
  },
  {
   "cell_type": "code",
   "execution_count": 38,
   "metadata": {},
   "outputs": [
    {
     "data": {
      "application/javascript": [
       "\n",
       "            setTimeout(function() {\n",
       "                var nbb_cell_id = 38;\n",
       "                var nbb_unformatted_code = \"params = {\\n    \\\"legend.fontsize\\\": \\\"x-large\\\",\\n    \\\"figure.figsize\\\": (20, 5),\\n    \\\"axes.labelsize\\\": \\\"x-large\\\",\\n    \\\"axes.titlesize\\\": \\\"x-large\\\",\\n    \\\"xtick.labelsize\\\": \\\"x-large\\\",\\n    \\\"ytick.labelsize\\\": \\\"x-large\\\",\\n}\\npylab.rcParams.update(params)\";\n",
       "                var nbb_formatted_code = \"params = {\\n    \\\"legend.fontsize\\\": \\\"x-large\\\",\\n    \\\"figure.figsize\\\": (20, 5),\\n    \\\"axes.labelsize\\\": \\\"x-large\\\",\\n    \\\"axes.titlesize\\\": \\\"x-large\\\",\\n    \\\"xtick.labelsize\\\": \\\"x-large\\\",\\n    \\\"ytick.labelsize\\\": \\\"x-large\\\",\\n}\\npylab.rcParams.update(params)\";\n",
       "                var nbb_cells = Jupyter.notebook.get_cells();\n",
       "                for (var i = 0; i < nbb_cells.length; ++i) {\n",
       "                    if (nbb_cells[i].input_prompt_number == nbb_cell_id) {\n",
       "                        if (nbb_cells[i].get_text() == nbb_unformatted_code) {\n",
       "                             nbb_cells[i].set_text(nbb_formatted_code);\n",
       "                        }\n",
       "                        break;\n",
       "                    }\n",
       "                }\n",
       "            }, 500);\n",
       "            "
      ],
      "text/plain": [
       "<IPython.core.display.Javascript object>"
      ]
     },
     "metadata": {},
     "output_type": "display_data"
    }
   ],
   "source": [
    "params = {\n",
    "    \"legend.fontsize\": \"x-large\",\n",
    "    \"figure.figsize\": (20, 5),\n",
    "    \"axes.labelsize\": \"x-large\",\n",
    "    \"axes.titlesize\": \"x-large\",\n",
    "    \"xtick.labelsize\": \"x-large\",\n",
    "    \"ytick.labelsize\": \"x-large\",\n",
    "}\n",
    "pylab.rcParams.update(params)"
   ]
  },
  {
   "cell_type": "code",
   "execution_count": 39,
   "metadata": {},
   "outputs": [
    {
     "data": {
      "text/html": [
       "<div>\n",
       "<style scoped>\n",
       "    .dataframe tbody tr th:only-of-type {\n",
       "        vertical-align: middle;\n",
       "    }\n",
       "\n",
       "    .dataframe tbody tr th {\n",
       "        vertical-align: top;\n",
       "    }\n",
       "\n",
       "    .dataframe thead th {\n",
       "        text-align: right;\n",
       "    }\n",
       "</style>\n",
       "<table border=\"1\" class=\"dataframe\">\n",
       "  <thead>\n",
       "    <tr style=\"text-align: right;\">\n",
       "      <th></th>\n",
       "      <th>Timestamp</th>\n",
       "      <th>Age</th>\n",
       "      <th>Gender</th>\n",
       "      <th>Country</th>\n",
       "      <th>state</th>\n",
       "      <th>self_employed</th>\n",
       "      <th>family_history</th>\n",
       "      <th>treatment</th>\n",
       "      <th>work_interfere</th>\n",
       "      <th>no_employees</th>\n",
       "      <th>...</th>\n",
       "      <th>leave</th>\n",
       "      <th>mental_health_consequence</th>\n",
       "      <th>phys_health_consequence</th>\n",
       "      <th>coworkers</th>\n",
       "      <th>supervisor</th>\n",
       "      <th>mental_health_interview</th>\n",
       "      <th>phys_health_interview</th>\n",
       "      <th>mental_vs_physical</th>\n",
       "      <th>obs_consequence</th>\n",
       "      <th>comments</th>\n",
       "    </tr>\n",
       "  </thead>\n",
       "  <tbody>\n",
       "    <tr>\n",
       "      <th>0</th>\n",
       "      <td>2014-08-27 11:29:31</td>\n",
       "      <td>37</td>\n",
       "      <td>Female</td>\n",
       "      <td>United States</td>\n",
       "      <td>IL</td>\n",
       "      <td>NaN</td>\n",
       "      <td>No</td>\n",
       "      <td>Yes</td>\n",
       "      <td>Often</td>\n",
       "      <td>6-25</td>\n",
       "      <td>...</td>\n",
       "      <td>Somewhat easy</td>\n",
       "      <td>No</td>\n",
       "      <td>No</td>\n",
       "      <td>Some of them</td>\n",
       "      <td>Yes</td>\n",
       "      <td>No</td>\n",
       "      <td>Maybe</td>\n",
       "      <td>Yes</td>\n",
       "      <td>No</td>\n",
       "      <td>NaN</td>\n",
       "    </tr>\n",
       "    <tr>\n",
       "      <th>1</th>\n",
       "      <td>2014-08-27 11:29:37</td>\n",
       "      <td>44</td>\n",
       "      <td>M</td>\n",
       "      <td>United States</td>\n",
       "      <td>IN</td>\n",
       "      <td>NaN</td>\n",
       "      <td>No</td>\n",
       "      <td>No</td>\n",
       "      <td>Rarely</td>\n",
       "      <td>More than 1000</td>\n",
       "      <td>...</td>\n",
       "      <td>Don't know</td>\n",
       "      <td>Maybe</td>\n",
       "      <td>No</td>\n",
       "      <td>No</td>\n",
       "      <td>No</td>\n",
       "      <td>No</td>\n",
       "      <td>No</td>\n",
       "      <td>Don't know</td>\n",
       "      <td>No</td>\n",
       "      <td>NaN</td>\n",
       "    </tr>\n",
       "    <tr>\n",
       "      <th>2</th>\n",
       "      <td>2014-08-27 11:29:44</td>\n",
       "      <td>32</td>\n",
       "      <td>Male</td>\n",
       "      <td>Canada</td>\n",
       "      <td>NaN</td>\n",
       "      <td>NaN</td>\n",
       "      <td>No</td>\n",
       "      <td>No</td>\n",
       "      <td>Rarely</td>\n",
       "      <td>6-25</td>\n",
       "      <td>...</td>\n",
       "      <td>Somewhat difficult</td>\n",
       "      <td>No</td>\n",
       "      <td>No</td>\n",
       "      <td>Yes</td>\n",
       "      <td>Yes</td>\n",
       "      <td>Yes</td>\n",
       "      <td>Yes</td>\n",
       "      <td>No</td>\n",
       "      <td>No</td>\n",
       "      <td>NaN</td>\n",
       "    </tr>\n",
       "    <tr>\n",
       "      <th>3</th>\n",
       "      <td>2014-08-27 11:29:46</td>\n",
       "      <td>31</td>\n",
       "      <td>Male</td>\n",
       "      <td>United Kingdom</td>\n",
       "      <td>NaN</td>\n",
       "      <td>NaN</td>\n",
       "      <td>Yes</td>\n",
       "      <td>Yes</td>\n",
       "      <td>Often</td>\n",
       "      <td>26-100</td>\n",
       "      <td>...</td>\n",
       "      <td>Somewhat difficult</td>\n",
       "      <td>Yes</td>\n",
       "      <td>Yes</td>\n",
       "      <td>Some of them</td>\n",
       "      <td>No</td>\n",
       "      <td>Maybe</td>\n",
       "      <td>Maybe</td>\n",
       "      <td>No</td>\n",
       "      <td>Yes</td>\n",
       "      <td>NaN</td>\n",
       "    </tr>\n",
       "    <tr>\n",
       "      <th>4</th>\n",
       "      <td>2014-08-27 11:30:22</td>\n",
       "      <td>31</td>\n",
       "      <td>Male</td>\n",
       "      <td>United States</td>\n",
       "      <td>TX</td>\n",
       "      <td>NaN</td>\n",
       "      <td>No</td>\n",
       "      <td>No</td>\n",
       "      <td>Never</td>\n",
       "      <td>100-500</td>\n",
       "      <td>...</td>\n",
       "      <td>Don't know</td>\n",
       "      <td>No</td>\n",
       "      <td>No</td>\n",
       "      <td>Some of them</td>\n",
       "      <td>Yes</td>\n",
       "      <td>Yes</td>\n",
       "      <td>Yes</td>\n",
       "      <td>Don't know</td>\n",
       "      <td>No</td>\n",
       "      <td>NaN</td>\n",
       "    </tr>\n",
       "  </tbody>\n",
       "</table>\n",
       "<p>5 rows × 27 columns</p>\n",
       "</div>"
      ],
      "text/plain": [
       "             Timestamp  Age  Gender         Country state self_employed  \\\n",
       "0  2014-08-27 11:29:31   37  Female   United States    IL           NaN   \n",
       "1  2014-08-27 11:29:37   44       M   United States    IN           NaN   \n",
       "2  2014-08-27 11:29:44   32    Male          Canada   NaN           NaN   \n",
       "3  2014-08-27 11:29:46   31    Male  United Kingdom   NaN           NaN   \n",
       "4  2014-08-27 11:30:22   31    Male   United States    TX           NaN   \n",
       "\n",
       "  family_history treatment work_interfere    no_employees  ...  \\\n",
       "0             No       Yes          Often            6-25  ...   \n",
       "1             No        No         Rarely  More than 1000  ...   \n",
       "2             No        No         Rarely            6-25  ...   \n",
       "3            Yes       Yes          Often          26-100  ...   \n",
       "4             No        No          Never         100-500  ...   \n",
       "\n",
       "                leave mental_health_consequence phys_health_consequence  \\\n",
       "0       Somewhat easy                        No                      No   \n",
       "1          Don't know                     Maybe                      No   \n",
       "2  Somewhat difficult                        No                      No   \n",
       "3  Somewhat difficult                       Yes                     Yes   \n",
       "4          Don't know                        No                      No   \n",
       "\n",
       "      coworkers supervisor mental_health_interview phys_health_interview  \\\n",
       "0  Some of them        Yes                      No                 Maybe   \n",
       "1            No         No                      No                    No   \n",
       "2           Yes        Yes                     Yes                   Yes   \n",
       "3  Some of them         No                   Maybe                 Maybe   \n",
       "4  Some of them        Yes                     Yes                   Yes   \n",
       "\n",
       "  mental_vs_physical obs_consequence comments  \n",
       "0                Yes              No      NaN  \n",
       "1         Don't know              No      NaN  \n",
       "2                 No              No      NaN  \n",
       "3                 No             Yes      NaN  \n",
       "4         Don't know              No      NaN  \n",
       "\n",
       "[5 rows x 27 columns]"
      ]
     },
     "execution_count": 39,
     "metadata": {},
     "output_type": "execute_result"
    },
    {
     "data": {
      "application/javascript": [
       "\n",
       "            setTimeout(function() {\n",
       "                var nbb_cell_id = 39;\n",
       "                var nbb_unformatted_code = \"df = pd.read_csv(\\\"./dataset/survey.csv\\\")\\ndf.head()\";\n",
       "                var nbb_formatted_code = \"df = pd.read_csv(\\\"./dataset/survey.csv\\\")\\ndf.head()\";\n",
       "                var nbb_cells = Jupyter.notebook.get_cells();\n",
       "                for (var i = 0; i < nbb_cells.length; ++i) {\n",
       "                    if (nbb_cells[i].input_prompt_number == nbb_cell_id) {\n",
       "                        if (nbb_cells[i].get_text() == nbb_unformatted_code) {\n",
       "                             nbb_cells[i].set_text(nbb_formatted_code);\n",
       "                        }\n",
       "                        break;\n",
       "                    }\n",
       "                }\n",
       "            }, 500);\n",
       "            "
      ],
      "text/plain": [
       "<IPython.core.display.Javascript object>"
      ]
     },
     "metadata": {},
     "output_type": "display_data"
    }
   ],
   "source": [
    "df = pd.read_csv(\"./dataset/survey.csv\")\n",
    "df.head()"
   ]
  },
  {
   "cell_type": "code",
   "execution_count": 40,
   "metadata": {
    "scrolled": false
   },
   "outputs": [
    {
     "name": "stdout",
     "output_type": "stream",
     "text": [
      "<class 'pandas.core.frame.DataFrame'>\n",
      "RangeIndex: 1259 entries, 0 to 1258\n",
      "Data columns (total 27 columns):\n",
      " #   Column                     Non-Null Count  Dtype \n",
      "---  ------                     --------------  ----- \n",
      " 0   Timestamp                  1259 non-null   object\n",
      " 1   Age                        1259 non-null   int64 \n",
      " 2   Gender                     1259 non-null   object\n",
      " 3   Country                    1259 non-null   object\n",
      " 4   state                      744 non-null    object\n",
      " 5   self_employed              1241 non-null   object\n",
      " 6   family_history             1259 non-null   object\n",
      " 7   treatment                  1259 non-null   object\n",
      " 8   work_interfere             995 non-null    object\n",
      " 9   no_employees               1259 non-null   object\n",
      " 10  remote_work                1259 non-null   object\n",
      " 11  tech_company               1259 non-null   object\n",
      " 12  benefits                   1259 non-null   object\n",
      " 13  care_options               1259 non-null   object\n",
      " 14  wellness_program           1259 non-null   object\n",
      " 15  seek_help                  1259 non-null   object\n",
      " 16  anonymity                  1259 non-null   object\n",
      " 17  leave                      1259 non-null   object\n",
      " 18  mental_health_consequence  1259 non-null   object\n",
      " 19  phys_health_consequence    1259 non-null   object\n",
      " 20  coworkers                  1259 non-null   object\n",
      " 21  supervisor                 1259 non-null   object\n",
      " 22  mental_health_interview    1259 non-null   object\n",
      " 23  phys_health_interview      1259 non-null   object\n",
      " 24  mental_vs_physical         1259 non-null   object\n",
      " 25  obs_consequence            1259 non-null   object\n",
      " 26  comments                   164 non-null    object\n",
      "dtypes: int64(1), object(26)\n",
      "memory usage: 265.7+ KB\n"
     ]
    },
    {
     "data": {
      "application/javascript": [
       "\n",
       "            setTimeout(function() {\n",
       "                var nbb_cell_id = 40;\n",
       "                var nbb_unformatted_code = \"df.info()\";\n",
       "                var nbb_formatted_code = \"df.info()\";\n",
       "                var nbb_cells = Jupyter.notebook.get_cells();\n",
       "                for (var i = 0; i < nbb_cells.length; ++i) {\n",
       "                    if (nbb_cells[i].input_prompt_number == nbb_cell_id) {\n",
       "                        if (nbb_cells[i].get_text() == nbb_unformatted_code) {\n",
       "                             nbb_cells[i].set_text(nbb_formatted_code);\n",
       "                        }\n",
       "                        break;\n",
       "                    }\n",
       "                }\n",
       "            }, 500);\n",
       "            "
      ],
      "text/plain": [
       "<IPython.core.display.Javascript object>"
      ]
     },
     "metadata": {},
     "output_type": "display_data"
    }
   ],
   "source": [
    "df.info()"
   ]
  },
  {
   "cell_type": "code",
   "execution_count": 41,
   "metadata": {
    "scrolled": false
   },
   "outputs": [
    {
     "name": "stdout",
     "output_type": "stream",
     "text": [
      "Timestamp                    0\n",
      "Age                          0\n",
      "Gender                       0\n",
      "Country                      0\n",
      "state                        0\n",
      "self_employed                0\n",
      "family_history               0\n",
      "treatment                    0\n",
      "work_interfere               0\n",
      "no_employees                 0\n",
      "remote_work                  0\n",
      "tech_company                 0\n",
      "benefits                     0\n",
      "care_options                 0\n",
      "wellness_program             0\n",
      "seek_help                    0\n",
      "anonymity                    0\n",
      "leave                        0\n",
      "mental_health_consequence    0\n",
      "phys_health_consequence      0\n",
      "coworkers                    0\n",
      "supervisor                   0\n",
      "mental_health_interview      0\n",
      "phys_health_interview        0\n",
      "mental_vs_physical           0\n",
      "obs_consequence              0\n",
      "comments                     0\n",
      "dtype: int64\n"
     ]
    },
    {
     "data": {
      "application/javascript": [
       "\n",
       "            setTimeout(function() {\n",
       "                var nbb_cell_id = 41;\n",
       "                var nbb_unformatted_code = \"# Clean all null values.\\ndf.state.fillna(\\\"\\\", inplace=True)\\ndf.work_interfere.fillna(df.work_interfere.mode()[0], inplace=True)\\ndf.self_employed.fillna(df.self_employed.mode()[0], inplace=True)\\ndf.comments.fillna(\\\"None\\\", inplace=True)\\nprint(df.isnull().sum())\";\n",
       "                var nbb_formatted_code = \"# Clean all null values.\\ndf.state.fillna(\\\"\\\", inplace=True)\\ndf.work_interfere.fillna(df.work_interfere.mode()[0], inplace=True)\\ndf.self_employed.fillna(df.self_employed.mode()[0], inplace=True)\\ndf.comments.fillna(\\\"None\\\", inplace=True)\\nprint(df.isnull().sum())\";\n",
       "                var nbb_cells = Jupyter.notebook.get_cells();\n",
       "                for (var i = 0; i < nbb_cells.length; ++i) {\n",
       "                    if (nbb_cells[i].input_prompt_number == nbb_cell_id) {\n",
       "                        if (nbb_cells[i].get_text() == nbb_unformatted_code) {\n",
       "                             nbb_cells[i].set_text(nbb_formatted_code);\n",
       "                        }\n",
       "                        break;\n",
       "                    }\n",
       "                }\n",
       "            }, 500);\n",
       "            "
      ],
      "text/plain": [
       "<IPython.core.display.Javascript object>"
      ]
     },
     "metadata": {},
     "output_type": "display_data"
    }
   ],
   "source": [
    "# Clean all null values.\n",
    "df.state.fillna(\"\", inplace=True)\n",
    "df.work_interfere.fillna(df.work_interfere.mode()[0], inplace=True)\n",
    "df.self_employed.fillna(df.self_employed.mode()[0], inplace=True)\n",
    "df.comments.fillna(\"None\", inplace=True)\n",
    "print(df.isnull().sum())"
   ]
  },
  {
   "cell_type": "code",
   "execution_count": 42,
   "metadata": {},
   "outputs": [
    {
     "data": {
      "text/html": [
       "<div>\n",
       "<style scoped>\n",
       "    .dataframe tbody tr th:only-of-type {\n",
       "        vertical-align: middle;\n",
       "    }\n",
       "\n",
       "    .dataframe tbody tr th {\n",
       "        vertical-align: top;\n",
       "    }\n",
       "\n",
       "    .dataframe thead th {\n",
       "        text-align: right;\n",
       "    }\n",
       "</style>\n",
       "<table border=\"1\" class=\"dataframe\">\n",
       "  <thead>\n",
       "    <tr style=\"text-align: right;\">\n",
       "      <th></th>\n",
       "      <th>Timestamp</th>\n",
       "      <th>Age</th>\n",
       "      <th>Gender</th>\n",
       "      <th>Country</th>\n",
       "      <th>self_employed</th>\n",
       "      <th>family_history</th>\n",
       "      <th>treatment</th>\n",
       "      <th>work_interfere</th>\n",
       "      <th>no_employees</th>\n",
       "      <th>remote_work</th>\n",
       "      <th>...</th>\n",
       "      <th>leave</th>\n",
       "      <th>mental_health_consequence</th>\n",
       "      <th>phys_health_consequence</th>\n",
       "      <th>coworkers</th>\n",
       "      <th>supervisor</th>\n",
       "      <th>mental_health_interview</th>\n",
       "      <th>phys_health_interview</th>\n",
       "      <th>mental_vs_physical</th>\n",
       "      <th>obs_consequence</th>\n",
       "      <th>comments</th>\n",
       "    </tr>\n",
       "  </thead>\n",
       "  <tbody>\n",
       "    <tr>\n",
       "      <th>0</th>\n",
       "      <td>2014-08-27 11:29:31</td>\n",
       "      <td>37</td>\n",
       "      <td>Female</td>\n",
       "      <td>United States, IL</td>\n",
       "      <td>No</td>\n",
       "      <td>No</td>\n",
       "      <td>Yes</td>\n",
       "      <td>Often</td>\n",
       "      <td>6-25</td>\n",
       "      <td>No</td>\n",
       "      <td>...</td>\n",
       "      <td>Somewhat easy</td>\n",
       "      <td>No</td>\n",
       "      <td>No</td>\n",
       "      <td>Some of them</td>\n",
       "      <td>Yes</td>\n",
       "      <td>No</td>\n",
       "      <td>Maybe</td>\n",
       "      <td>Yes</td>\n",
       "      <td>No</td>\n",
       "      <td>None</td>\n",
       "    </tr>\n",
       "    <tr>\n",
       "      <th>1</th>\n",
       "      <td>2014-08-27 11:29:37</td>\n",
       "      <td>44</td>\n",
       "      <td>M</td>\n",
       "      <td>United States, IN</td>\n",
       "      <td>No</td>\n",
       "      <td>No</td>\n",
       "      <td>No</td>\n",
       "      <td>Rarely</td>\n",
       "      <td>More than 1000</td>\n",
       "      <td>No</td>\n",
       "      <td>...</td>\n",
       "      <td>Don't know</td>\n",
       "      <td>Maybe</td>\n",
       "      <td>No</td>\n",
       "      <td>No</td>\n",
       "      <td>No</td>\n",
       "      <td>No</td>\n",
       "      <td>No</td>\n",
       "      <td>Don't know</td>\n",
       "      <td>No</td>\n",
       "      <td>None</td>\n",
       "    </tr>\n",
       "    <tr>\n",
       "      <th>2</th>\n",
       "      <td>2014-08-27 11:29:44</td>\n",
       "      <td>32</td>\n",
       "      <td>Male</td>\n",
       "      <td>Canada</td>\n",
       "      <td>No</td>\n",
       "      <td>No</td>\n",
       "      <td>No</td>\n",
       "      <td>Rarely</td>\n",
       "      <td>6-25</td>\n",
       "      <td>No</td>\n",
       "      <td>...</td>\n",
       "      <td>Somewhat difficult</td>\n",
       "      <td>No</td>\n",
       "      <td>No</td>\n",
       "      <td>Yes</td>\n",
       "      <td>Yes</td>\n",
       "      <td>Yes</td>\n",
       "      <td>Yes</td>\n",
       "      <td>No</td>\n",
       "      <td>No</td>\n",
       "      <td>None</td>\n",
       "    </tr>\n",
       "    <tr>\n",
       "      <th>3</th>\n",
       "      <td>2014-08-27 11:29:46</td>\n",
       "      <td>31</td>\n",
       "      <td>Male</td>\n",
       "      <td>United Kingdom</td>\n",
       "      <td>No</td>\n",
       "      <td>Yes</td>\n",
       "      <td>Yes</td>\n",
       "      <td>Often</td>\n",
       "      <td>26-100</td>\n",
       "      <td>No</td>\n",
       "      <td>...</td>\n",
       "      <td>Somewhat difficult</td>\n",
       "      <td>Yes</td>\n",
       "      <td>Yes</td>\n",
       "      <td>Some of them</td>\n",
       "      <td>No</td>\n",
       "      <td>Maybe</td>\n",
       "      <td>Maybe</td>\n",
       "      <td>No</td>\n",
       "      <td>Yes</td>\n",
       "      <td>None</td>\n",
       "    </tr>\n",
       "    <tr>\n",
       "      <th>4</th>\n",
       "      <td>2014-08-27 11:30:22</td>\n",
       "      <td>31</td>\n",
       "      <td>Male</td>\n",
       "      <td>United States, TX</td>\n",
       "      <td>No</td>\n",
       "      <td>No</td>\n",
       "      <td>No</td>\n",
       "      <td>Never</td>\n",
       "      <td>100-500</td>\n",
       "      <td>Yes</td>\n",
       "      <td>...</td>\n",
       "      <td>Don't know</td>\n",
       "      <td>No</td>\n",
       "      <td>No</td>\n",
       "      <td>Some of them</td>\n",
       "      <td>Yes</td>\n",
       "      <td>Yes</td>\n",
       "      <td>Yes</td>\n",
       "      <td>Don't know</td>\n",
       "      <td>No</td>\n",
       "      <td>None</td>\n",
       "    </tr>\n",
       "  </tbody>\n",
       "</table>\n",
       "<p>5 rows × 26 columns</p>\n",
       "</div>"
      ],
      "text/plain": [
       "             Timestamp  Age  Gender            Country self_employed  \\\n",
       "0  2014-08-27 11:29:31   37  Female  United States, IL            No   \n",
       "1  2014-08-27 11:29:37   44       M  United States, IN            No   \n",
       "2  2014-08-27 11:29:44   32    Male             Canada            No   \n",
       "3  2014-08-27 11:29:46   31    Male     United Kingdom            No   \n",
       "4  2014-08-27 11:30:22   31    Male  United States, TX            No   \n",
       "\n",
       "  family_history treatment work_interfere    no_employees remote_work  ...  \\\n",
       "0             No       Yes          Often            6-25          No  ...   \n",
       "1             No        No         Rarely  More than 1000          No  ...   \n",
       "2             No        No         Rarely            6-25          No  ...   \n",
       "3            Yes       Yes          Often          26-100          No  ...   \n",
       "4             No        No          Never         100-500         Yes  ...   \n",
       "\n",
       "                leave mental_health_consequence phys_health_consequence  \\\n",
       "0       Somewhat easy                        No                      No   \n",
       "1          Don't know                     Maybe                      No   \n",
       "2  Somewhat difficult                        No                      No   \n",
       "3  Somewhat difficult                       Yes                     Yes   \n",
       "4          Don't know                        No                      No   \n",
       "\n",
       "      coworkers supervisor mental_health_interview phys_health_interview  \\\n",
       "0  Some of them        Yes                      No                 Maybe   \n",
       "1            No         No                      No                    No   \n",
       "2           Yes        Yes                     Yes                   Yes   \n",
       "3  Some of them         No                   Maybe                 Maybe   \n",
       "4  Some of them        Yes                     Yes                   Yes   \n",
       "\n",
       "  mental_vs_physical obs_consequence comments  \n",
       "0                Yes              No     None  \n",
       "1         Don't know              No     None  \n",
       "2                 No              No     None  \n",
       "3                 No             Yes     None  \n",
       "4         Don't know              No     None  \n",
       "\n",
       "[5 rows x 26 columns]"
      ]
     },
     "execution_count": 42,
     "metadata": {},
     "output_type": "execute_result"
    },
    {
     "data": {
      "application/javascript": [
       "\n",
       "            setTimeout(function() {\n",
       "                var nbb_cell_id = 42;\n",
       "                var nbb_unformatted_code = \"# Combine country and state\\ndf[\\\"Country\\\"].where(\\n    df[\\\"state\\\"] == \\\"\\\", other=df[\\\"Country\\\"] + \\\", \\\" + df[\\\"state\\\"], inplace=True\\n)\\ndf.drop(\\\"state\\\", axis=1, inplace=True)\\ndf.head()\";\n",
       "                var nbb_formatted_code = \"# Combine country and state\\ndf[\\\"Country\\\"].where(\\n    df[\\\"state\\\"] == \\\"\\\", other=df[\\\"Country\\\"] + \\\", \\\" + df[\\\"state\\\"], inplace=True\\n)\\ndf.drop(\\\"state\\\", axis=1, inplace=True)\\ndf.head()\";\n",
       "                var nbb_cells = Jupyter.notebook.get_cells();\n",
       "                for (var i = 0; i < nbb_cells.length; ++i) {\n",
       "                    if (nbb_cells[i].input_prompt_number == nbb_cell_id) {\n",
       "                        if (nbb_cells[i].get_text() == nbb_unformatted_code) {\n",
       "                             nbb_cells[i].set_text(nbb_formatted_code);\n",
       "                        }\n",
       "                        break;\n",
       "                    }\n",
       "                }\n",
       "            }, 500);\n",
       "            "
      ],
      "text/plain": [
       "<IPython.core.display.Javascript object>"
      ]
     },
     "metadata": {},
     "output_type": "display_data"
    }
   ],
   "source": [
    "# Combine country and state\n",
    "df[\"Country\"].where(\n",
    "    df[\"state\"] == \"\", other=df[\"Country\"] + \", \" + df[\"state\"], inplace=True\n",
    ")\n",
    "df.drop(\"state\", axis=1, inplace=True)\n",
    "df.head()"
   ]
  },
  {
   "cell_type": "code",
   "execution_count": 43,
   "metadata": {
    "scrolled": false
   },
   "outputs": [
    {
     "data": {
      "text/plain": [
       "Male                                              615\n",
       "male                                              206\n",
       "Female                                            121\n",
       "M                                                 116\n",
       "female                                             62\n",
       "F                                                  38\n",
       "m                                                  34\n",
       "f                                                  15\n",
       "Make                                                4\n",
       "Woman                                               3\n",
       "Male                                                3\n",
       "Female                                              2\n",
       "Man                                                 2\n",
       "Female (trans)                                      2\n",
       "Cis Male                                            2\n",
       "Agender                                             1\n",
       "Androgyne                                           1\n",
       "cis male                                            1\n",
       "Malr                                                1\n",
       "Male (CIS)                                          1\n",
       "Guy (-ish) ^_^                                      1\n",
       "p                                                   1\n",
       "Cis Female                                          1\n",
       "woman                                               1\n",
       "Nah                                                 1\n",
       "Femake                                              1\n",
       "Neuter                                              1\n",
       "ostensibly male, unsure what that really means      1\n",
       "Trans woman                                         1\n",
       "queer/she/they                                      1\n",
       "non-binary                                          1\n",
       "Enby                                                1\n",
       "Genderqueer                                         1\n",
       "cis-female/femme                                    1\n",
       "femail                                              1\n",
       "fluid                                               1\n",
       "Male-ish                                            1\n",
       "something kinda male?                               1\n",
       "Mail                                                1\n",
       "Mal                                                 1\n",
       "Female (cis)                                        1\n",
       "Trans-female                                        1\n",
       "Cis Man                                             1\n",
       "msle                                                1\n",
       "male leaning androgynous                            1\n",
       "A little about you                                  1\n",
       "maile                                               1\n",
       "All                                                 1\n",
       "queer                                               1\n",
       "Name: Gender, dtype: int64"
      ]
     },
     "execution_count": 43,
     "metadata": {},
     "output_type": "execute_result"
    },
    {
     "data": {
      "application/javascript": [
       "\n",
       "            setTimeout(function() {\n",
       "                var nbb_cell_id = 43;\n",
       "                var nbb_unformatted_code = \"df.Gender.value_counts()\";\n",
       "                var nbb_formatted_code = \"df.Gender.value_counts()\";\n",
       "                var nbb_cells = Jupyter.notebook.get_cells();\n",
       "                for (var i = 0; i < nbb_cells.length; ++i) {\n",
       "                    if (nbb_cells[i].input_prompt_number == nbb_cell_id) {\n",
       "                        if (nbb_cells[i].get_text() == nbb_unformatted_code) {\n",
       "                             nbb_cells[i].set_text(nbb_formatted_code);\n",
       "                        }\n",
       "                        break;\n",
       "                    }\n",
       "                }\n",
       "            }, 500);\n",
       "            "
      ],
      "text/plain": [
       "<IPython.core.display.Javascript object>"
      ]
     },
     "metadata": {},
     "output_type": "display_data"
    }
   ],
   "source": [
    "df.Gender.value_counts()"
   ]
  },
  {
   "cell_type": "code",
   "execution_count": 44,
   "metadata": {},
   "outputs": [
    {
     "data": {
      "text/plain": [
       "Male         991\n",
       "Female       247\n",
       "Nonbinary     21\n",
       "Name: Gender, dtype: int64"
      ]
     },
     "execution_count": 44,
     "metadata": {},
     "output_type": "execute_result"
    },
    {
     "data": {
      "application/javascript": [
       "\n",
       "            setTimeout(function() {\n",
       "                var nbb_cell_id = 44;\n",
       "                var nbb_unformatted_code = \"# Clean gender's and make them either Male, Female, Non-binary\\n\\ndf[\\\"Gender\\\"].replace(\\n    [\\n        \\\"A little about you\\\",\\n        \\\"Agender\\\",\\n        \\\"All\\\",\\n        \\\"Androgyne\\\",\\n        \\\"Enby\\\",\\n        \\\"non-binary\\\",\\n        \\\"Nah\\\",\\n        \\\"something kinda male?\\\",\\n        \\\"p\\\",\\n        \\\"ostensibly male, unsure what that really means\\\",\\n        \\\"Genderqueer\\\",\\n        \\\"queer/she/they\\\",\\n        \\\"Neuter\\\",\\n        \\\"Trans woman\\\",\\n        \\\"Trans-female\\\",\\n        \\\"queer\\\",\\n        \\\"fluid\\\",\\n        \\\"fluid\\\",\\n        \\\"male leaning androgynous\\\",\\n        \\\"Female (trans)\\\",\\n        \\\"Guy (-ish) ^_^\\\",\\n    ],\\n    \\\"Nonbinary\\\",\\n    inplace=True,\\n)\\n\\n\\ndf[\\\"Gender\\\"].replace(\\n    [\\n        \\\"Cis Female\\\",\\n        \\\"F\\\",\\n        \\\"Femake\\\",\\n        \\\"Female \\\",\\n        \\\"Female (cis)\\\",\\n        \\\"Woman\\\",\\n        \\\"femail\\\",\\n        \\\"female\\\",\\n        \\\"woman\\\",\\n        \\\"cis-female/femme\\\",\\n        \\\"f\\\",\\n    ],\\n    \\\"Female\\\",\\n    inplace=True,\\n)\\n\\ndf[\\\"Gender\\\"].replace(\\n    [\\n        \\\"Cis Male\\\",\\n        \\\"Cis Man\\\",\\n        \\\"M\\\",\\n        \\\"Mail\\\",\\n        \\\"Make\\\",\\n        \\\"Mal\\\",\\n        \\\"Male \\\",\\n        \\\"Male (CIS)\\\",\\n        \\\"Male-ish\\\",\\n        \\\"Man\\\",\\n        \\\"m\\\",\\n        \\\"cis male\\\",\\n        \\\"maile\\\",\\n        \\\"male\\\",\\n        \\\"msle\\\",\\n        \\\"Malr\\\",\\n    ],\\n    \\\"Male\\\",\\n    inplace=True,\\n)\\ndf.Gender.value_counts()\";\n",
       "                var nbb_formatted_code = \"# Clean gender's and make them either Male, Female, Non-binary\\n\\ndf[\\\"Gender\\\"].replace(\\n    [\\n        \\\"A little about you\\\",\\n        \\\"Agender\\\",\\n        \\\"All\\\",\\n        \\\"Androgyne\\\",\\n        \\\"Enby\\\",\\n        \\\"non-binary\\\",\\n        \\\"Nah\\\",\\n        \\\"something kinda male?\\\",\\n        \\\"p\\\",\\n        \\\"ostensibly male, unsure what that really means\\\",\\n        \\\"Genderqueer\\\",\\n        \\\"queer/she/they\\\",\\n        \\\"Neuter\\\",\\n        \\\"Trans woman\\\",\\n        \\\"Trans-female\\\",\\n        \\\"queer\\\",\\n        \\\"fluid\\\",\\n        \\\"fluid\\\",\\n        \\\"male leaning androgynous\\\",\\n        \\\"Female (trans)\\\",\\n        \\\"Guy (-ish) ^_^\\\",\\n    ],\\n    \\\"Nonbinary\\\",\\n    inplace=True,\\n)\\n\\n\\ndf[\\\"Gender\\\"].replace(\\n    [\\n        \\\"Cis Female\\\",\\n        \\\"F\\\",\\n        \\\"Femake\\\",\\n        \\\"Female \\\",\\n        \\\"Female (cis)\\\",\\n        \\\"Woman\\\",\\n        \\\"femail\\\",\\n        \\\"female\\\",\\n        \\\"woman\\\",\\n        \\\"cis-female/femme\\\",\\n        \\\"f\\\",\\n    ],\\n    \\\"Female\\\",\\n    inplace=True,\\n)\\n\\ndf[\\\"Gender\\\"].replace(\\n    [\\n        \\\"Cis Male\\\",\\n        \\\"Cis Man\\\",\\n        \\\"M\\\",\\n        \\\"Mail\\\",\\n        \\\"Make\\\",\\n        \\\"Mal\\\",\\n        \\\"Male \\\",\\n        \\\"Male (CIS)\\\",\\n        \\\"Male-ish\\\",\\n        \\\"Man\\\",\\n        \\\"m\\\",\\n        \\\"cis male\\\",\\n        \\\"maile\\\",\\n        \\\"male\\\",\\n        \\\"msle\\\",\\n        \\\"Malr\\\",\\n    ],\\n    \\\"Male\\\",\\n    inplace=True,\\n)\\ndf.Gender.value_counts()\";\n",
       "                var nbb_cells = Jupyter.notebook.get_cells();\n",
       "                for (var i = 0; i < nbb_cells.length; ++i) {\n",
       "                    if (nbb_cells[i].input_prompt_number == nbb_cell_id) {\n",
       "                        if (nbb_cells[i].get_text() == nbb_unformatted_code) {\n",
       "                             nbb_cells[i].set_text(nbb_formatted_code);\n",
       "                        }\n",
       "                        break;\n",
       "                    }\n",
       "                }\n",
       "            }, 500);\n",
       "            "
      ],
      "text/plain": [
       "<IPython.core.display.Javascript object>"
      ]
     },
     "metadata": {},
     "output_type": "display_data"
    }
   ],
   "source": [
    "# Clean gender's and make them either Male, Female, Non-binary\n",
    "\n",
    "df[\"Gender\"].replace(\n",
    "    [\n",
    "        \"A little about you\",\n",
    "        \"Agender\",\n",
    "        \"All\",\n",
    "        \"Androgyne\",\n",
    "        \"Enby\",\n",
    "        \"non-binary\",\n",
    "        \"Nah\",\n",
    "        \"something kinda male?\",\n",
    "        \"p\",\n",
    "        \"ostensibly male, unsure what that really means\",\n",
    "        \"Genderqueer\",\n",
    "        \"queer/she/they\",\n",
    "        \"Neuter\",\n",
    "        \"Trans woman\",\n",
    "        \"Trans-female\",\n",
    "        \"queer\",\n",
    "        \"fluid\",\n",
    "        \"fluid\",\n",
    "        \"male leaning androgynous\",\n",
    "        \"Female (trans)\",\n",
    "        \"Guy (-ish) ^_^\",\n",
    "    ],\n",
    "    \"Nonbinary\",\n",
    "    inplace=True,\n",
    ")\n",
    "\n",
    "\n",
    "df[\"Gender\"].replace(\n",
    "    [\n",
    "        \"Cis Female\",\n",
    "        \"F\",\n",
    "        \"Femake\",\n",
    "        \"Female \",\n",
    "        \"Female (cis)\",\n",
    "        \"Woman\",\n",
    "        \"femail\",\n",
    "        \"female\",\n",
    "        \"woman\",\n",
    "        \"cis-female/femme\",\n",
    "        \"f\",\n",
    "    ],\n",
    "    \"Female\",\n",
    "    inplace=True,\n",
    ")\n",
    "\n",
    "df[\"Gender\"].replace(\n",
    "    [\n",
    "        \"Cis Male\",\n",
    "        \"Cis Man\",\n",
    "        \"M\",\n",
    "        \"Mail\",\n",
    "        \"Make\",\n",
    "        \"Mal\",\n",
    "        \"Male \",\n",
    "        \"Male (CIS)\",\n",
    "        \"Male-ish\",\n",
    "        \"Man\",\n",
    "        \"m\",\n",
    "        \"cis male\",\n",
    "        \"maile\",\n",
    "        \"male\",\n",
    "        \"msle\",\n",
    "        \"Malr\",\n",
    "    ],\n",
    "    \"Male\",\n",
    "    inplace=True,\n",
    ")\n",
    "df.Gender.value_counts()"
   ]
  },
  {
   "cell_type": "code",
   "execution_count": 45,
   "metadata": {},
   "outputs": [
    {
     "data": {
      "text/plain": [
       "count    1.259000e+03\n",
       "mean     7.942815e+07\n",
       "std      2.818299e+09\n",
       "min     -1.726000e+03\n",
       "25%      2.700000e+01\n",
       "50%      3.100000e+01\n",
       "75%      3.600000e+01\n",
       "max      1.000000e+11\n",
       "Name: Age, dtype: float64"
      ]
     },
     "execution_count": 45,
     "metadata": {},
     "output_type": "execute_result"
    },
    {
     "data": {
      "application/javascript": [
       "\n",
       "            setTimeout(function() {\n",
       "                var nbb_cell_id = 45;\n",
       "                var nbb_unformatted_code = \"# Not normalized data\\ndf.Age.describe()\";\n",
       "                var nbb_formatted_code = \"# Not normalized data\\ndf.Age.describe()\";\n",
       "                var nbb_cells = Jupyter.notebook.get_cells();\n",
       "                for (var i = 0; i < nbb_cells.length; ++i) {\n",
       "                    if (nbb_cells[i].input_prompt_number == nbb_cell_id) {\n",
       "                        if (nbb_cells[i].get_text() == nbb_unformatted_code) {\n",
       "                             nbb_cells[i].set_text(nbb_formatted_code);\n",
       "                        }\n",
       "                        break;\n",
       "                    }\n",
       "                }\n",
       "            }, 500);\n",
       "            "
      ],
      "text/plain": [
       "<IPython.core.display.Javascript object>"
      ]
     },
     "metadata": {},
     "output_type": "display_data"
    }
   ],
   "source": [
    "# Not normalized data\n",
    "df.Age.describe()"
   ]
  },
  {
   "cell_type": "code",
   "execution_count": 46,
   "metadata": {},
   "outputs": [
    {
     "data": {
      "text/html": [
       "<div>\n",
       "<style scoped>\n",
       "    .dataframe tbody tr th:only-of-type {\n",
       "        vertical-align: middle;\n",
       "    }\n",
       "\n",
       "    .dataframe tbody tr th {\n",
       "        vertical-align: top;\n",
       "    }\n",
       "\n",
       "    .dataframe thead th {\n",
       "        text-align: right;\n",
       "    }\n",
       "</style>\n",
       "<table border=\"1\" class=\"dataframe\">\n",
       "  <thead>\n",
       "    <tr style=\"text-align: right;\">\n",
       "      <th></th>\n",
       "      <th>Timestamp</th>\n",
       "      <th>Age</th>\n",
       "      <th>Gender</th>\n",
       "      <th>Country</th>\n",
       "      <th>self_employed</th>\n",
       "      <th>family_history</th>\n",
       "      <th>treatment</th>\n",
       "      <th>work_interfere</th>\n",
       "      <th>no_employees</th>\n",
       "      <th>remote_work</th>\n",
       "      <th>...</th>\n",
       "      <th>leave</th>\n",
       "      <th>mental_health_consequence</th>\n",
       "      <th>phys_health_consequence</th>\n",
       "      <th>coworkers</th>\n",
       "      <th>supervisor</th>\n",
       "      <th>mental_health_interview</th>\n",
       "      <th>phys_health_interview</th>\n",
       "      <th>mental_vs_physical</th>\n",
       "      <th>obs_consequence</th>\n",
       "      <th>comments</th>\n",
       "    </tr>\n",
       "  </thead>\n",
       "  <tbody>\n",
       "    <tr>\n",
       "      <th>734</th>\n",
       "      <td>2014-08-28 10:35:55</td>\n",
       "      <td>5</td>\n",
       "      <td>Male</td>\n",
       "      <td>United States, OH</td>\n",
       "      <td>No</td>\n",
       "      <td>No</td>\n",
       "      <td>No</td>\n",
       "      <td>Sometimes</td>\n",
       "      <td>100-500</td>\n",
       "      <td>No</td>\n",
       "      <td>...</td>\n",
       "      <td>Somewhat easy</td>\n",
       "      <td>No</td>\n",
       "      <td>No</td>\n",
       "      <td>Yes</td>\n",
       "      <td>Yes</td>\n",
       "      <td>No</td>\n",
       "      <td>No</td>\n",
       "      <td>Yes</td>\n",
       "      <td>No</td>\n",
       "      <td>We had a developer suffer from depression and ...</td>\n",
       "    </tr>\n",
       "  </tbody>\n",
       "</table>\n",
       "<p>1 rows × 26 columns</p>\n",
       "</div>"
      ],
      "text/plain": [
       "               Timestamp  Age Gender            Country self_employed  \\\n",
       "734  2014-08-28 10:35:55    5   Male  United States, OH            No   \n",
       "\n",
       "    family_history treatment work_interfere no_employees remote_work  ...  \\\n",
       "734             No        No      Sometimes      100-500          No  ...   \n",
       "\n",
       "             leave mental_health_consequence phys_health_consequence  \\\n",
       "734  Somewhat easy                        No                      No   \n",
       "\n",
       "    coworkers supervisor mental_health_interview phys_health_interview  \\\n",
       "734       Yes        Yes                      No                    No   \n",
       "\n",
       "    mental_vs_physical obs_consequence  \\\n",
       "734                Yes              No   \n",
       "\n",
       "                                              comments  \n",
       "734  We had a developer suffer from depression and ...  \n",
       "\n",
       "[1 rows x 26 columns]"
      ]
     },
     "execution_count": 46,
     "metadata": {},
     "output_type": "execute_result"
    },
    {
     "data": {
      "application/javascript": [
       "\n",
       "            setTimeout(function() {\n",
       "                var nbb_cell_id = 46;\n",
       "                var nbb_unformatted_code = \"def filterByAge(age):\\n    indeces_list = df.index[df[\\\"Age\\\"] == age].tolist()\\n    return df.loc[indeces_list]\\n\\n\\nfilterByAge(5)\";\n",
       "                var nbb_formatted_code = \"def filterByAge(age):\\n    indeces_list = df.index[df[\\\"Age\\\"] == age].tolist()\\n    return df.loc[indeces_list]\\n\\n\\nfilterByAge(5)\";\n",
       "                var nbb_cells = Jupyter.notebook.get_cells();\n",
       "                for (var i = 0; i < nbb_cells.length; ++i) {\n",
       "                    if (nbb_cells[i].input_prompt_number == nbb_cell_id) {\n",
       "                        if (nbb_cells[i].get_text() == nbb_unformatted_code) {\n",
       "                             nbb_cells[i].set_text(nbb_formatted_code);\n",
       "                        }\n",
       "                        break;\n",
       "                    }\n",
       "                }\n",
       "            }, 500);\n",
       "            "
      ],
      "text/plain": [
       "<IPython.core.display.Javascript object>"
      ]
     },
     "metadata": {},
     "output_type": "display_data"
    }
   ],
   "source": [
    "def filterByAge(age):\n",
    "    indeces_list = df.index[df[\"Age\"] == age].tolist()\n",
    "    return df.loc[indeces_list]\n",
    "\n",
    "\n",
    "filterByAge(5)"
   ]
  },
  {
   "cell_type": "code",
   "execution_count": 47,
   "metadata": {},
   "outputs": [
    {
     "data": {
      "text/plain": [
       "count    1256.000000\n",
       "mean       31.992038\n",
       "std         7.421403\n",
       "min         1.000000\n",
       "25%        27.000000\n",
       "50%        31.000000\n",
       "75%        36.000000\n",
       "max        72.000000\n",
       "Name: Age, dtype: float64"
      ]
     },
     "execution_count": 47,
     "metadata": {},
     "output_type": "execute_result"
    },
    {
     "data": {
      "application/javascript": [
       "\n",
       "            setTimeout(function() {\n",
       "                var nbb_cell_id = 47;\n",
       "                var nbb_unformatted_code = \"# Remove any age outliers above the age 100.\\ndf[\\\"Age\\\"] = df[\\\"Age\\\"].abs()\\nassert len(df[df[\\\"Age\\\"] < 0]) == 0\\nindeces_list = df.index[df[\\\"Age\\\"] > 100].tolist()\\ndf = df.drop(indeces_list)\\ndf.Age.describe()\";\n",
       "                var nbb_formatted_code = \"# Remove any age outliers above the age 100.\\ndf[\\\"Age\\\"] = df[\\\"Age\\\"].abs()\\nassert len(df[df[\\\"Age\\\"] < 0]) == 0\\nindeces_list = df.index[df[\\\"Age\\\"] > 100].tolist()\\ndf = df.drop(indeces_list)\\ndf.Age.describe()\";\n",
       "                var nbb_cells = Jupyter.notebook.get_cells();\n",
       "                for (var i = 0; i < nbb_cells.length; ++i) {\n",
       "                    if (nbb_cells[i].input_prompt_number == nbb_cell_id) {\n",
       "                        if (nbb_cells[i].get_text() == nbb_unformatted_code) {\n",
       "                             nbb_cells[i].set_text(nbb_formatted_code);\n",
       "                        }\n",
       "                        break;\n",
       "                    }\n",
       "                }\n",
       "            }, 500);\n",
       "            "
      ],
      "text/plain": [
       "<IPython.core.display.Javascript object>"
      ]
     },
     "metadata": {},
     "output_type": "display_data"
    }
   ],
   "source": [
    "# Remove any age outliers above the age 100.\n",
    "df[\"Age\"] = df[\"Age\"].abs()\n",
    "assert len(df[df[\"Age\"] < 0]) == 0\n",
    "indeces_list = df.index[df[\"Age\"] > 100].tolist()\n",
    "df = df.drop(indeces_list)\n",
    "df.Age.describe()"
   ]
  },
  {
   "cell_type": "code",
   "execution_count": 53,
   "metadata": {},
   "outputs": [
    {
     "data": {
      "image/png": "[encoded data removed]",
      "text/plain": [
       "<Figure size 1440x360 with 1 Axes>"
      ]
     },
     "metadata": {
      "needs_background": "light"
     },
     "output_type": "display_data"
    },
    {
     "data": {
      "application/javascript": [
       "\n",
       "            setTimeout(function() {\n",
       "                var nbb_cell_id = 53;\n",
       "                var nbb_unformatted_code = \"bins = [0, 18, 30, 40, 50, 60, 70, np.inf]\\nlabels = [\\\"0-17\\\", \\\"18-29\\\", \\\"30-39\\\", \\\"40-49\\\", \\\"50-59\\\", \\\"60-69\\\", \\\"70+\\\"]\\ndf[\\\"agerange\\\"] = pd.cut(df.Age, bins, labels=labels, include_lowest=True)\\ndf.agerange.value_counts().plot(    kind=\\\"bar\\\"\\n)\\nplt.xlabel(\\\"Age groups\\\")\\nplt.ylabel(\\\"Number of people\\\")\\nplt.title(\\\"Age group frequency\\\")\\nplt.show()\";\n",
       "                var nbb_formatted_code = \"bins = [0, 18, 30, 40, 50, 60, 70, np.inf]\\nlabels = [\\\"0-17\\\", \\\"18-29\\\", \\\"30-39\\\", \\\"40-49\\\", \\\"50-59\\\", \\\"60-69\\\", \\\"70+\\\"]\\ndf[\\\"agerange\\\"] = pd.cut(df.Age, bins, labels=labels, include_lowest=True)\\ndf.agerange.value_counts().plot(kind=\\\"bar\\\")\\nplt.xlabel(\\\"Age groups\\\")\\nplt.ylabel(\\\"Number of people\\\")\\nplt.title(\\\"Age group frequency\\\")\\nplt.show()\";\n",
       "                var nbb_cells = Jupyter.notebook.get_cells();\n",
       "                for (var i = 0; i < nbb_cells.length; ++i) {\n",
       "                    if (nbb_cells[i].input_prompt_number == nbb_cell_id) {\n",
       "                        if (nbb_cells[i].get_text() == nbb_unformatted_code) {\n",
       "                             nbb_cells[i].set_text(nbb_formatted_code);\n",
       "                        }\n",
       "                        break;\n",
       "                    }\n",
       "                }\n",
       "            }, 500);\n",
       "            "
      ],
      "text/plain": [
       "<IPython.core.display.Javascript object>"
      ]
     },
     "metadata": {},
     "output_type": "display_data"
    }
   ],
   "source": [
    "bins = [0, 18, 30, 40, 50, 60, 70, np.inf]\n",
    "labels = [\"0-17\", \"18-29\", \"30-39\", \"40-49\", \"50-59\", \"60-69\", \"70+\"]\n",
    "df[\"agerange\"] = pd.cut(df.Age, bins, labels=labels, include_lowest=True)\n",
    "df.agerange.value_counts().plot(kind=\"bar\")\n",
    "plt.xlabel(\"Age groups\")\n",
    "plt.ylabel(\"Number of people\")\n",
    "plt.title(\"Age group frequency\")\n",
    "plt.show()"
   ]
  },
  {
   "cell_type": "code",
   "execution_count": 55,
   "metadata": {},
   "outputs": [
    {
     "data": {
      "image/png": "[encoded data removed]",
      "text/plain": [
       "<Figure size 1440x360 with 1 Axes>"
      ]
     },
     "metadata": {
      "needs_background": "light"
     },
     "output_type": "display_data"
    },
    {
     "data": {
      "application/javascript": [
       "\n",
       "            setTimeout(function() {\n",
       "                var nbb_cell_id = 55;\n",
       "                var nbb_unformatted_code = \"# Only United States\\ndf_only_us = df.where(df[\\\"Country\\\"].str.contains(\\\"United States\\\")).dropna(axis=0)\\ndf_only_us[\\\"Country\\\"] = df[\\\"Country\\\"].str.replace(\\\"United States, \\\", \\\"\\\")\\ndf_only_us.Country.value_counts()[:10].plot(\\n    kind=\\\"bar\\\")\\nplt.xticks(rotation=360)\\nplt.xlabel(\\\"States\\\")\\nplt.ylabel(\\\"Number of US States\\\")\\nplt.title(\\\"Top 10 US States frequency\\\")\\nplt.show()\";\n",
       "                var nbb_formatted_code = \"# Only United States\\ndf_only_us = df.where(df[\\\"Country\\\"].str.contains(\\\"United States\\\")).dropna(axis=0)\\ndf_only_us[\\\"Country\\\"] = df[\\\"Country\\\"].str.replace(\\\"United States, \\\", \\\"\\\")\\ndf_only_us.Country.value_counts()[:10].plot(kind=\\\"bar\\\")\\nplt.xticks(rotation=360)\\nplt.xlabel(\\\"States\\\")\\nplt.ylabel(\\\"Number of US States\\\")\\nplt.title(\\\"Top 10 US States frequency\\\")\\nplt.show()\";\n",
       "                var nbb_cells = Jupyter.notebook.get_cells();\n",
       "                for (var i = 0; i < nbb_cells.length; ++i) {\n",
       "                    if (nbb_cells[i].input_prompt_number == nbb_cell_id) {\n",
       "                        if (nbb_cells[i].get_text() == nbb_unformatted_code) {\n",
       "                             nbb_cells[i].set_text(nbb_formatted_code);\n",
       "                        }\n",
       "                        break;\n",
       "                    }\n",
       "                }\n",
       "            }, 500);\n",
       "            "
      ],
      "text/plain": [
       "<IPython.core.display.Javascript object>"
      ]
     },
     "metadata": {},
     "output_type": "display_data"
    }
   ],
   "source": [
    "# Only United States\n",
    "df_only_us = df.where(df[\"Country\"].str.contains(\"United States\")).dropna(axis=0)\n",
    "df_only_us[\"Country\"] = df[\"Country\"].str.replace(\"United States, \", \"\")\n",
    "df_only_us.Country.value_counts()[:10].plot(kind=\"bar\")\n",
    "plt.xticks(rotation=360)\n",
    "plt.xlabel(\"States\")\n",
    "plt.ylabel(\"Number of US States\")\n",
    "plt.title(\"Top 10 US States frequency\")\n",
    "plt.show()"
   ]
  },
  {
   "cell_type": "code",
   "execution_count": null,
   "metadata": {},
   "outputs": [],
   "source": [
    "# All Countires\n",
    "df_global = df.copy()\n",
    "df_global[\"Country\"] = df.Country.str.replace(r\"(^.*United States.*$)\", \"United States\")\n",
    "df_global.Country.value_counts()[:10].plot(\n",
    "    kind=\"bar\",\n",
    "    xlabel=\"States\",\n",
    "    ylabel=\"Number of US States\",\n",
    "    title=\"US States frequency\",\n",
    "    figsize=(20, 5),\n",
    ")\n",
    "\n",
    "plt.show()"
   ]
  },
  {
   "cell_type": "code",
   "execution_count": null,
   "metadata": {},
   "outputs": [],
   "source": [
    "df.drop(\"Timestamp\", axis=1, inplace=True)\n",
    "df.drop(\"agerange\", axis=1, inplace=True)\n",
    "df.drop(\"comments\", axis=1, inplace=True)"
   ]
  },
  {
   "cell_type": "code",
   "execution_count": null,
   "metadata": {},
   "outputs": [],
   "source": [
    "for column in list(df.columns.values):\n",
    "    print(column, list(df[column].unique()))"
   ]
  },
  {
   "cell_type": "code",
   "execution_count": null,
   "metadata": {},
   "outputs": [],
   "source": [
    "# One hot encoding\n",
    "hot_encoding_features = [\n",
    "    \"self_employed\",\n",
    "    \"family_history\",\n",
    "    \"work_interfere\",\n",
    "    \"remote_work\",\n",
    "    \"tech_company\",\n",
    "    \"benefits\",\n",
    "    \"care_options\",\n",
    "    \"wellness_program\",\n",
    "    \"seek_help\",\n",
    "    \"anonymity\",\n",
    "    \"leave\",\n",
    "    \"mental_health_consequence\",\n",
    "    \"phys_health_consequence\",\n",
    "    \"coworkers\",\n",
    "    \"supervisor\",\n",
    "    \"mental_vs_physical\",\n",
    "    \"mental_health_interview\",\n",
    "    \"phys_health_interview\",\n",
    "    \"obs_consequence\",\n",
    "    \"Gender\",\n",
    "]\n",
    "for feature in hot_encoding_features:\n",
    "    encoder = OneHotEncoder(handle_unknown=\"error\")\n",
    "    data_encoded = encoder.fit_transform(df[[feature]])\n",
    "    for index, unique_feature_data in enumerate(df[feature].unique()):\n",
    "        unique_feature_data = unique_feature_data.lower().replace(\" \", \"_\")\n",
    "        col_name = feature + \"_\" + unique_feature_data\n",
    "        data_encoded_array = data_encoded.toarray()\n",
    "        df[col_name] = data_encoded_array[:, index]\n",
    "    df.drop(feature, axis=1, inplace=True)\n",
    "df.head()"
   ]
  },
  {
   "cell_type": "code",
   "execution_count": null,
   "metadata": {},
   "outputs": [],
   "source": [
    "no_emp_order = [\"1-5\", \"6-25\", \"26-100\", \"100-500\", \"500-1000\", \"More than 1000\"]\n",
    "df.no_employees.value_counts().loc[no_emp_order].plot(\n",
    "    kind=\"bar\",\n",
    "    xlabel=\"No. of employees\",\n",
    "    ylabel=\"Number of people\",\n",
    "    title=\"Employee frequency\",\n",
    ")\n",
    "plt.show()"
   ]
  },
  {
   "cell_type": "code",
   "execution_count": null,
   "metadata": {
    "scrolled": true
   },
   "outputs": [],
   "source": [
    "# Ordinal encoding.\n",
    "ordinal_features = [\"Country\", \"no_employees\"]\n",
    "ordinal_enconder = OrdinalEncoder()\n",
    "for features in ordinal_features:\n",
    "    OrdFeaturesToNum = ordinal_enconder.fit_transform(df[[features]])\n",
    "    df[features] = OrdFeaturesToNum\n",
    "df.head()"
   ]
  },
  {
   "cell_type": "code",
   "execution_count": null,
   "metadata": {},
   "outputs": [],
   "source": [
    "df.treatment.replace((\"Yes\", \"No\"), (1, 0), inplace=True)\n",
    "df.head()"
   ]
  },
  {
   "cell_type": "code",
   "execution_count": null,
   "metadata": {
    "scrolled": true
   },
   "outputs": [],
   "source": [
    "corr_matrix = df.corr(method=\"spearman\")\n",
    "plt.figure(figsize=(25, 10))\n",
    "sns.heatmap(corr_matrix, linewidths=0.5)"
   ]
  },
  {
   "cell_type": "code",
   "execution_count": null,
   "metadata": {},
   "outputs": [],
   "source": [
    "# Split data for training\n",
    "features = df.drop(\"treatment\", axis=1)\n",
    "labels = df[\"treatment\"]\n",
    "\n",
    "train_ratio = 0.8\n",
    "validation_ratio = 0.10\n",
    "test_ratio = 0.05\n",
    "\n",
    "x_train, x_test, y_train, y_test = train_test_split(\n",
    "    features, labels, test_size=1 - train_ratio, random_state=42\n",
    ")\n",
    "x_val, x_test, y_val, y_test = train_test_split(\n",
    "    x_test,\n",
    "    y_test,\n",
    "    test_size=test_ratio / (test_ratio + validation_ratio),\n",
    "    random_state=42,\n",
    ")"
   ]
  },
  {
   "cell_type": "code",
   "execution_count": null,
   "metadata": {},
   "outputs": [],
   "source": [
    "# Stochastic Gradient Descent (SGD) classifier\n",
    "sgd_clf = SGDClassifier(random_state=42)\n",
    "sgd_clf.fit(x_train, y_train)"
   ]
  },
  {
   "cell_type": "code",
   "execution_count": null,
   "metadata": {},
   "outputs": [],
   "source": [
    "cross_val_score(sgd_clf, x_train, y_train, cv=3, scoring=\"accuracy\")"
   ]
  },
  {
   "cell_type": "code",
   "execution_count": null,
   "metadata": {},
   "outputs": [],
   "source": []
  },
  {
   "cell_type": "code",
   "execution_count": null,
   "metadata": {},
   "outputs": [],
   "source": [
    "input_features = x_train.shape[1]\n",
    "# model = keras.Sequential(\n",
    "#     [\n",
    "#         keras.layers.Flatten(input_shape=(input_features,)),\n",
    "#         keras.layers.Dense(100, activation=\"relu\"),\n",
    "#         keras.layers.Dense(100, activation=\"relu\"),\n",
    "#         keras.layers.Dense(1, activation=\"sigmoid\"),\n",
    "#     ]\n",
    "# )\n",
    "# model.summary()"
   ]
  },
  {
   "cell_type": "code",
   "execution_count": null,
   "metadata": {},
   "outputs": [],
   "source": [
    "# model.compile(optimizer=\"adam\", loss=\"binary_crossentropy\", metrics=[\"accuracy\"])\n",
    "\n",
    "# model.fit(X_train, y_train, epochs=50, validation_data=(x_val, y_val))\n"
   ]
  }
 ],
 "metadata": {
  "kernelspec": {
   "display_name": "Python 3",
   "language": "python",
   "name": "python3"
  },
  "language_info": {
   "codemirror_mode": {
    "name": "ipython",
    "version": 3
   },
   "file_extension": ".py",
   "mimetype": "text/x-python",
   "name": "python",
   "nbconvert_exporter": "python",
   "pygments_lexer": "ipython3",
   "version": "3.8.3"
  }
 },
 "nbformat": 4,
 "nbformat_minor": 4
}
